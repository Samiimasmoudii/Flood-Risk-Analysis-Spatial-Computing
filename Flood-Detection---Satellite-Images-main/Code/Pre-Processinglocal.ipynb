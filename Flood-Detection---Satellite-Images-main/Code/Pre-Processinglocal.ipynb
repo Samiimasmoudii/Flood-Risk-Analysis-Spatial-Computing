{
 "cells": [
  {
   "cell_type": "code",
   "execution_count": 14,
   "metadata": {},
   "outputs": [],
   "source": [
    "import subprocess \n",
    "from subprocess import PIPE\n",
    "import rasterio\n",
    "import json\n",
    "import glob \n",
    "import pandas as pd\n",
    "import os\n",
    "\n",
    "import cv2"
   ]
  },
  {
   "cell_type": "markdown",
   "metadata": {},
   "source": [
    "<h3> Define Functions </h3>"
   ]
  },
  {
   "cell_type": "code",
   "execution_count": 15,
   "metadata": {},
   "outputs": [],
   "source": [
    "# This function takes as argument the a string contraining the a path for one image.\n",
    "# It check if the first band is empty (if all pixels are zero) and if yes it returns True otherwise False.\n",
    "\n",
    "def check_empty_img(url):\n",
    "    # Reading Image\n",
    "    # You can give path to the \n",
    "    # image as first argument\n",
    "#     print(url)\n",
    "    image = cv2.imread(url+'/B01.tif',0)\n",
    "  \n",
    "    # Checking if the image is empty or not\n",
    "    if (cv2.countNonZero(image) == 0):\n",
    "        return  True\n",
    "    else:\n",
    "        return  False\n",
    "  "
   ]
  },
  {
   "cell_type": "code",
   "execution_count": 16,
   "metadata": {},
   "outputs": [],
   "source": [
    "# This function takes 4 bands and it stacks them into a single image\n",
    "\n",
    "def stack_bands(path, product_id):\n",
    "    print(path)\n",
    "\n",
    "    \n",
    "    band_list = ['B02.tif', 'B03.tif', 'B04.tif', 'B08.tif']\n",
    "    try:\n",
    "        \n",
    "        # Read metadata of first file\n",
    "        with rasterio.open(path +'/'+ band_list[0]) as src0:\n",
    "            meta = src0.meta\n",
    "\n",
    "        # Update meta to reflect the number of layers\n",
    "        meta.update(count = len(band_list))\n",
    "\n",
    "        # Read each layer and write it to stack\n",
    "        with rasterio.open(path + '/' + 'stack.tif', 'w', **meta) as dst:\n",
    "            for id, layer in enumerate(band_list, start=1):\n",
    "                with rasterio.open(path +'/'+ layer) as src1:\n",
    "                    dst.write_band(id, src1.read(1))\n",
    "    except:\n",
    "        print(\"Folder with no Data\")\n",
    "        remove_empty_folders(path)\n",
    "        \n",
    "        pass\n",
    "\n",
    "    "
   ]
  },
  {
   "cell_type": "code",
   "execution_count": 17,
   "metadata": {},
   "outputs": [],
   "source": [
    "def product_name(path):\n",
    "    json_data=open(path+\"/stac.json\", \"rb\")\n",
    "    jdata = json.load(json_data)\n",
    "    \n",
    "    return  jdata['id']\n",
    "    "
   ]
  },
  {
   "cell_type": "code",
   "execution_count": 18,
   "metadata": {},
   "outputs": [],
   "source": [
    "# This functions deletes a folder and its containds if no spectral band is included\n",
    "\n",
    "def remove_empty_folders(path):\n",
    "    subprocess.run(['rm', '-r', path])\n",
    "    return"
   ]
  },
  {
   "cell_type": "code",
   "execution_count": 19,
   "metadata": {},
   "outputs": [],
   "source": [
    "def label(path):\n",
    "    # return thr label of each product which should be either Flood or not Flood, \n",
    "    # and convert it into 0 for not flood and 1 for flooded\n",
    "    \n",
    "    return"
   ]
  },
  {
   "cell_type": "markdown",
   "metadata": {},
   "source": [
    "<h2> Iterative Throug Folders </h2>"
   ]
  },
  {
   "cell_type": "code",
   "execution_count": 23,
   "metadata": {},
   "outputs": [
    {
     "name": "stdout",
     "output_type": "stream",
     "text": [
      "The number of folders are currently = 446\n"
     ]
    }
   ],
   "source": [
    "# Create a list with all the folders containing spectral bands\n",
    "\n",
    "\n",
    "flist = []\n",
    "rootdir = '/workspaces/Flood-Risk-Analysis-Spatial-Computing/data/sen1floods11_data/v1.1/data/flood_events/HandLabeled/S1Hand'\n",
    "for file in os.listdir(rootdir):\n",
    "    d = os.path.join(rootdir, file)\n",
    "    if os.path.isfile(d):\n",
    "        flist.append(d)\n",
    "        \n",
    "        \n",
    "print(f\"The number of folders are currently = {len(flist)}\")"
   ]
  },
  {
   "cell_type": "code",
   "execution_count": null,
   "metadata": {},
   "outputs": [],
   "source": [
    "#####################################################################################################################"
   ]
  }
 ],
 "metadata": {
  "kernelspec": {
   "display_name": "flood_mapping",
   "language": "python",
   "name": "python3"
  },
  "language_info": {
   "codemirror_mode": {
    "name": "ipython",
    "version": 3
   },
   "file_extension": ".py",
   "mimetype": "text/x-python",
   "name": "python",
   "nbconvert_exporter": "python",
   "pygments_lexer": "ipython3",
   "version": "3.8.20"
  }
 },
 "nbformat": 4,
 "nbformat_minor": 4
}
